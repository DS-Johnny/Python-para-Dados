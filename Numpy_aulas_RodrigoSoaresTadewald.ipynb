{
  "nbformat": 4,
  "nbformat_minor": 0,
  "metadata": {
    "colab": {
      "provenance": [],
      "toc_visible": true,
      "authorship_tag": "ABX9TyO9lXPslmPbpjITRbnH3CKR",
      "include_colab_link": true
    },
    "kernelspec": {
      "name": "python3",
      "display_name": "Python 3"
    },
    "language_info": {
      "name": "python"
    }
  },
  "cells": [
    {
      "cell_type": "markdown",
      "metadata": {
        "id": "view-in-github",
        "colab_type": "text"
      },
      "source": [
        "<a href=\"https://colab.research.google.com/github/DS-Johnny/Python-para-Dados/blob/main/Numpy_aulas_RodrigoSoaresTadewald.ipynb\" target=\"_parent\"><img src=\"https://colab.research.google.com/assets/colab-badge.svg\" alt=\"Open In Colab\"/></a>"
      ]
    },
    {
      "cell_type": "markdown",
      "source": [],
      "metadata": {
        "id": "mi15AYtS5zZH"
      }
    },
    {
      "cell_type": "markdown",
      "source": [
        "\n",
        "\n",
        "# AULA 1: introdução\n"
      ],
      "metadata": {
        "id": "Xba5A1WB5z4H"
      }
    },
    {
      "cell_type": "markdown",
      "source": [
        "Importando numpy"
      ],
      "metadata": {
        "id": "cwDFwBiE6GVt"
      }
    },
    {
      "cell_type": "code",
      "source": [
        "import numpy as np"
      ],
      "metadata": {
        "id": "JOYlO8_By8Hx"
      },
      "execution_count": null,
      "outputs": []
    },
    {
      "cell_type": "code",
      "source": [
        "minha_lista = [1,2,3]"
      ],
      "metadata": {
        "id": "2BtW6Npoy-e4"
      },
      "execution_count": null,
      "outputs": []
    },
    {
      "cell_type": "code",
      "source": [
        "minha_lista"
      ],
      "metadata": {
        "colab": {
          "base_uri": "https://localhost:8080/"
        },
        "id": "cAZwrCmQ2Rl9",
        "outputId": "68f5eee7-d170-4a30-c2f4-c1a9c735065c"
      },
      "execution_count": null,
      "outputs": [
        {
          "output_type": "execute_result",
          "data": {
            "text/plain": [
              "[1, 2, 3]"
            ]
          },
          "metadata": {},
          "execution_count": 3
        }
      ]
    },
    {
      "cell_type": "markdown",
      "source": [
        "Converter lista em array numpy"
      ],
      "metadata": {
        "id": "bPjjuF3A2VJx"
      }
    },
    {
      "cell_type": "code",
      "source": [
        "np.array(minha_lista)"
      ],
      "metadata": {
        "colab": {
          "base_uri": "https://localhost:8080/"
        },
        "id": "nMlAJepc2dSV",
        "outputId": "03f23ce8-91c2-4e65-cf57-746625317b00"
      },
      "execution_count": null,
      "outputs": [
        {
          "output_type": "execute_result",
          "data": {
            "text/plain": [
              "array([1, 2, 3])"
            ]
          },
          "metadata": {},
          "execution_count": 4
        }
      ]
    },
    {
      "cell_type": "code",
      "source": [
        "minha_lista"
      ],
      "metadata": {
        "colab": {
          "base_uri": "https://localhost:8080/"
        },
        "id": "cykTCiQk2je3",
        "outputId": "f41a7914-8b4e-4de1-d479-8bfeff7db9fc"
      },
      "execution_count": null,
      "outputs": [
        {
          "output_type": "execute_result",
          "data": {
            "text/plain": [
              "[1, 2, 3]"
            ]
          },
          "metadata": {},
          "execution_count": 5
        }
      ]
    },
    {
      "cell_type": "markdown",
      "source": [
        "Para criar uma lista de duas dimensões:"
      ],
      "metadata": {
        "id": "chqonYsE3jVh"
      }
    },
    {
      "cell_type": "code",
      "source": [
        "minha_matriz = [[1,2,3],[4,5,6],[7,8,9]]"
      ],
      "metadata": {
        "id": "SWJy_qtZ3mTH"
      },
      "execution_count": null,
      "outputs": []
    },
    {
      "cell_type": "code",
      "source": [
        "minha_matriz"
      ],
      "metadata": {
        "colab": {
          "base_uri": "https://localhost:8080/"
        },
        "id": "z1sXa0SV4BxJ",
        "outputId": "367de786-2e80-4b16-ed15-1ec149b246cf"
      },
      "execution_count": null,
      "outputs": [
        {
          "output_type": "execute_result",
          "data": {
            "text/plain": [
              "[[1, 2, 3], [4, 5, 6], [7, 8, 9]]"
            ]
          },
          "metadata": {},
          "execution_count": 8
        }
      ]
    },
    {
      "cell_type": "code",
      "source": [
        "np.array(minha_matriz)"
      ],
      "metadata": {
        "colab": {
          "base_uri": "https://localhost:8080/"
        },
        "id": "mZJNH9sH32-9",
        "outputId": "ff9cd106-f2d6-441e-b66a-2b7315ffa965"
      },
      "execution_count": null,
      "outputs": [
        {
          "output_type": "execute_result",
          "data": {
            "text/plain": [
              "array([[1, 2, 3],\n",
              "       [4, 5, 6],\n",
              "       [7, 8, 9]])"
            ]
          },
          "metadata": {},
          "execution_count": 7
        }
      ]
    },
    {
      "cell_type": "markdown",
      "source": [
        "np.arrange cria uma sequência de números"
      ],
      "metadata": {
        "id": "Yps97zz74JXp"
      }
    },
    {
      "cell_type": "code",
      "source": [
        "np.arange(0, 10)"
      ],
      "metadata": {
        "colab": {
          "base_uri": "https://localhost:8080/"
        },
        "id": "ushCeEJq38pA",
        "outputId": "ee88ca0e-9ea3-4750-e27c-9782b0ea9a95"
      },
      "execution_count": null,
      "outputs": [
        {
          "output_type": "execute_result",
          "data": {
            "text/plain": [
              "array([0, 1, 2, 3, 4, 5, 6, 7, 8, 9])"
            ]
          },
          "metadata": {},
          "execution_count": 10
        }
      ]
    },
    {
      "cell_type": "code",
      "source": [
        "np.arange(0,10,2)"
      ],
      "metadata": {
        "colab": {
          "base_uri": "https://localhost:8080/"
        },
        "id": "yGT3_RM94e7H",
        "outputId": "982297c4-99c7-4562-a05f-ee0eeaab365c"
      },
      "execution_count": null,
      "outputs": [
        {
          "output_type": "execute_result",
          "data": {
            "text/plain": [
              "array([0, 2, 4, 6, 8])"
            ]
          },
          "metadata": {},
          "execution_count": 11
        }
      ]
    },
    {
      "cell_type": "markdown",
      "source": [
        "array de zeros"
      ],
      "metadata": {
        "id": "Zagy9exn4r0H"
      }
    },
    {
      "cell_type": "code",
      "source": [
        "np.zeros(3)"
      ],
      "metadata": {
        "colab": {
          "base_uri": "https://localhost:8080/"
        },
        "id": "PceKktmn4lh-",
        "outputId": "c6bb8811-42be-4d71-fe21-fdf3ba13fd06"
      },
      "execution_count": null,
      "outputs": [
        {
          "output_type": "execute_result",
          "data": {
            "text/plain": [
              "array([0., 0., 0.])"
            ]
          },
          "metadata": {},
          "execution_count": 12
        }
      ]
    },
    {
      "cell_type": "markdown",
      "source": [
        "Para fazer uma matriz de zeros utilizar tupla:"
      ],
      "metadata": {
        "id": "HDUbQ4Ze5aMT"
      }
    },
    {
      "cell_type": "code",
      "source": [
        "np.zeros((5,5))"
      ],
      "metadata": {
        "colab": {
          "base_uri": "https://localhost:8080/"
        },
        "id": "AeGb3ERJ4wXf",
        "outputId": "738e4610-ab5c-4f62-fc00-3f375f4a5d59"
      },
      "execution_count": null,
      "outputs": [
        {
          "output_type": "execute_result",
          "data": {
            "text/plain": [
              "array([[0., 0., 0., 0., 0.],\n",
              "       [0., 0., 0., 0., 0.],\n",
              "       [0., 0., 0., 0., 0.],\n",
              "       [0., 0., 0., 0., 0.],\n",
              "       [0., 0., 0., 0., 0.]])"
            ]
          },
          "metadata": {},
          "execution_count": 15
        }
      ]
    },
    {
      "cell_type": "markdown",
      "source": [
        "Matriz de \"Uns\":"
      ],
      "metadata": {
        "id": "4YFosdp96Mj8"
      }
    },
    {
      "cell_type": "code",
      "source": [
        "np.ones((3,3))"
      ],
      "metadata": {
        "colab": {
          "base_uri": "https://localhost:8080/"
        },
        "id": "Ka2s3SHc5mqx",
        "outputId": "2be6f5cd-897f-4098-e126-430dbd58e8f1"
      },
      "execution_count": null,
      "outputs": [
        {
          "output_type": "execute_result",
          "data": {
            "text/plain": [
              "array([[1., 1., 1.],\n",
              "       [1., 1., 1.],\n",
              "       [1., 1., 1.]])"
            ]
          },
          "metadata": {},
          "execution_count": 16
        }
      ]
    },
    {
      "cell_type": "markdown",
      "source": [
        "Matriz identidade: Contém \"Uns\" nas diagonais e zeros no restante da matriz"
      ],
      "metadata": {
        "id": "7TcpMLC_6VQV"
      }
    },
    {
      "cell_type": "code",
      "source": [
        "np.eye(4)"
      ],
      "metadata": {
        "colab": {
          "base_uri": "https://localhost:8080/"
        },
        "id": "JFWQKb_k6RRw",
        "outputId": "552e122d-2c7d-490a-a61d-1d38e92a84ce"
      },
      "execution_count": null,
      "outputs": [
        {
          "output_type": "execute_result",
          "data": {
            "text/plain": [
              "array([[1., 0., 0., 0.],\n",
              "       [0., 1., 0., 0.],\n",
              "       [0., 0., 1., 0.],\n",
              "       [0., 0., 0., 1.]])"
            ]
          },
          "metadata": {},
          "execution_count": 17
        }
      ]
    },
    {
      "cell_type": "markdown",
      "source": [
        "argumentos do arange -> (início, fim, passo)\n"
      ],
      "metadata": {
        "id": "fiyln7o77ZLk"
      }
    },
    {
      "cell_type": "markdown",
      "source": [
        "argumentos do linspace -> (início, fim, quantos números igualmente espaçados dentro da série)"
      ],
      "metadata": {
        "id": "fc6dg_ja7uuz"
      }
    },
    {
      "cell_type": "code",
      "source": [
        "np.linspace(0,10,2)"
      ],
      "metadata": {
        "colab": {
          "base_uri": "https://localhost:8080/"
        },
        "id": "oRxr_F-7636H",
        "outputId": "92f50ff5-3772-4be2-9cf1-5f9711077e9c"
      },
      "execution_count": null,
      "outputs": [
        {
          "output_type": "execute_result",
          "data": {
            "text/plain": [
              "array([ 0., 10.])"
            ]
          },
          "metadata": {},
          "execution_count": 18
        }
      ]
    },
    {
      "cell_type": "code",
      "source": [
        "np.linspace(0,10,3)"
      ],
      "metadata": {
        "colab": {
          "base_uri": "https://localhost:8080/"
        },
        "id": "DwhJkxq07zYt",
        "outputId": "d2ef0102-f016-451a-e996-5468b848cfb2"
      },
      "execution_count": null,
      "outputs": [
        {
          "output_type": "execute_result",
          "data": {
            "text/plain": [
              "array([ 0.,  5., 10.])"
            ]
          },
          "metadata": {},
          "execution_count": 19
        }
      ]
    },
    {
      "cell_type": "markdown",
      "source": [
        "Números aleatórios:"
      ],
      "metadata": {
        "id": "bvcEMJZr784f"
      }
    },
    {
      "cell_type": "markdown",
      "source": [
        "Rand: cria números aleatórios de 0 a 1, seguindo uma distribuição uniforme"
      ],
      "metadata": {
        "id": "zH3GlAYg8VYD"
      }
    },
    {
      "cell_type": "code",
      "source": [
        "np.random.rand(5)"
      ],
      "metadata": {
        "colab": {
          "base_uri": "https://localhost:8080/"
        },
        "id": "C_qQki2X721V",
        "outputId": "a059908b-38d9-4299-a05b-5314e607a136"
      },
      "execution_count": null,
      "outputs": [
        {
          "output_type": "execute_result",
          "data": {
            "text/plain": [
              "array([0.73535417, 0.97557847, 0.12267559, 0.36686186, 0.97211534])"
            ]
          },
          "metadata": {},
          "execution_count": 21
        }
      ]
    },
    {
      "cell_type": "markdown",
      "source": [
        "matriz com rand:"
      ],
      "metadata": {
        "id": "73F2KW6g8l_T"
      }
    },
    {
      "cell_type": "code",
      "source": [
        "np.random.rand(2,5)"
      ],
      "metadata": {
        "colab": {
          "base_uri": "https://localhost:8080/"
        },
        "id": "ONCPghNN8LKw",
        "outputId": "9c534731-fe53-49c8-996e-b31248dd61ff"
      },
      "execution_count": null,
      "outputs": [
        {
          "output_type": "execute_result",
          "data": {
            "text/plain": [
              "array([[0.93458872, 0.43454517, 0.20250789, 0.68571663, 0.82665224],\n",
              "       [0.81443367, 0.59506257, 0.79452552, 0.78709322, 0.85720468]])"
            ]
          },
          "metadata": {},
          "execution_count": 22
        }
      ]
    },
    {
      "cell_type": "markdown",
      "source": [
        "Randn: A diferença é que a distribuição não é uniforme"
      ],
      "metadata": {
        "id": "3FNmlezV8wNK"
      }
    },
    {
      "cell_type": "code",
      "source": [
        "np.random.randn(4)"
      ],
      "metadata": {
        "colab": {
          "base_uri": "https://localhost:8080/"
        },
        "id": "hhdmju2m8uQL",
        "outputId": "877e8325-79df-43cc-8bfe-217a667bf4a5"
      },
      "execution_count": null,
      "outputs": [
        {
          "output_type": "execute_result",
          "data": {
            "text/plain": [
              "array([ 1.30922632, -0.63565074,  0.4794846 , -0.29288767])"
            ]
          },
          "metadata": {},
          "execution_count": 24
        }
      ]
    },
    {
      "cell_type": "markdown",
      "source": [
        "randint: (inicio, fim, quantidade de números)"
      ],
      "metadata": {
        "id": "5beZCUOq9hUT"
      }
    },
    {
      "cell_type": "code",
      "source": [
        "np.random.randint(0, 100, 10)"
      ],
      "metadata": {
        "colab": {
          "base_uri": "https://localhost:8080/"
        },
        "id": "Rwok1DqW87wQ",
        "outputId": "fda6c02b-d74b-4bc3-e67c-6d04e7570f1b"
      },
      "execution_count": null,
      "outputs": [
        {
          "output_type": "execute_result",
          "data": {
            "text/plain": [
              "array([21, 15, 55, 92, 26, 15, 14, 96, 68, 90])"
            ]
          },
          "metadata": {},
          "execution_count": 25
        }
      ]
    },
    {
      "cell_type": "code",
      "source": [],
      "metadata": {
        "id": "4x7cVLS9-QVx"
      },
      "execution_count": null,
      "outputs": []
    },
    {
      "cell_type": "markdown",
      "source": [
        "A mesma coisa funcionaria se multiplicar o randn:"
      ],
      "metadata": {
        "id": "0grV1BOK-Tor"
      }
    },
    {
      "cell_type": "code",
      "source": [
        "np.random.randn(5) *100"
      ],
      "metadata": {
        "colab": {
          "base_uri": "https://localhost:8080/"
        },
        "id": "7UJfx-Fs-XJG",
        "outputId": "54f68bae-2918-4efb-de4b-6ebc44481ce8"
      },
      "execution_count": null,
      "outputs": [
        {
          "output_type": "execute_result",
          "data": {
            "text/plain": [
              "array([  50.28728299, -124.90299452,   74.76949218,   67.83789637,\n",
              "        -96.4746487 ])"
            ]
          },
          "metadata": {},
          "execution_count": 26
        }
      ]
    },
    {
      "cell_type": "code",
      "source": [
        "np.round(np.random.randn(5)*100)"
      ],
      "metadata": {
        "colab": {
          "base_uri": "https://localhost:8080/"
        },
        "id": "cDNstb9z-b9u",
        "outputId": "34d7a648-52c4-4d5c-b97d-c40853e47701"
      },
      "execution_count": null,
      "outputs": [
        {
          "output_type": "execute_result",
          "data": {
            "text/plain": [
              "array([  -5., -157.,   10.,  -51.,   53.])"
            ]
          },
          "metadata": {},
          "execution_count": 27
        }
      ]
    },
    {
      "cell_type": "markdown",
      "source": [
        "Atributos e métodos do numpy"
      ],
      "metadata": {
        "id": "_8Fh7O8E-qFB"
      }
    },
    {
      "cell_type": "markdown",
      "source": [
        "Reshape:"
      ],
      "metadata": {
        "id": "ZLmOh6Ni-uUR"
      }
    },
    {
      "cell_type": "code",
      "source": [
        "arr = np.random.rand(25)"
      ],
      "metadata": {
        "id": "bVTCnb1G-iIu"
      },
      "execution_count": null,
      "outputs": []
    },
    {
      "cell_type": "code",
      "source": [
        "arr"
      ],
      "metadata": {
        "colab": {
          "base_uri": "https://localhost:8080/"
        },
        "id": "BoSBPxGb-1Q7",
        "outputId": "f0a7f226-592a-4a12-d8d5-21028c051213"
      },
      "execution_count": null,
      "outputs": [
        {
          "output_type": "execute_result",
          "data": {
            "text/plain": [
              "array([0.84297782, 0.20507373, 0.85361423, 0.18444988, 0.92523286,\n",
              "       0.56507548, 0.74074004, 0.06536292, 0.52737512, 0.26922961,\n",
              "       0.38119918, 0.82953519, 0.19006214, 0.91495403, 0.74699793,\n",
              "       0.40118718, 0.11641595, 0.98324001, 0.8304686 , 0.89912352,\n",
              "       0.01818322, 0.7792791 , 0.1797083 , 0.06846482, 0.62310157])"
            ]
          },
          "metadata": {},
          "execution_count": 29
        }
      ]
    },
    {
      "cell_type": "code",
      "source": [
        "arr.reshape((5,5))"
      ],
      "metadata": {
        "colab": {
          "base_uri": "https://localhost:8080/"
        },
        "id": "7gdd-TNl-3FL",
        "outputId": "f5e80856-41ac-4c19-dd4f-e0c436a95fe6"
      },
      "execution_count": null,
      "outputs": [
        {
          "output_type": "execute_result",
          "data": {
            "text/plain": [
              "array([[0.84297782, 0.20507373, 0.85361423, 0.18444988, 0.92523286],\n",
              "       [0.56507548, 0.74074004, 0.06536292, 0.52737512, 0.26922961],\n",
              "       [0.38119918, 0.82953519, 0.19006214, 0.91495403, 0.74699793],\n",
              "       [0.40118718, 0.11641595, 0.98324001, 0.8304686 , 0.89912352],\n",
              "       [0.01818322, 0.7792791 , 0.1797083 , 0.06846482, 0.62310157]])"
            ]
          },
          "metadata": {},
          "execution_count": 30
        }
      ]
    },
    {
      "cell_type": "markdown",
      "source": [
        "Atributo shape:"
      ],
      "metadata": {
        "id": "FiwCIaTq_T9B"
      }
    },
    {
      "cell_type": "code",
      "source": [
        "arr.shape"
      ],
      "metadata": {
        "colab": {
          "base_uri": "https://localhost:8080/"
        },
        "id": "hnd17wCr_HKD",
        "outputId": "3eca5f2e-27ce-4b4a-92b9-094a2ed637af"
      },
      "execution_count": null,
      "outputs": [
        {
          "output_type": "execute_result",
          "data": {
            "text/plain": [
              "(25,)"
            ]
          },
          "metadata": {},
          "execution_count": 31
        }
      ]
    },
    {
      "cell_type": "code",
      "source": [
        "arr = arr.reshape((5,5))"
      ],
      "metadata": {
        "id": "DpundYuC_WWX"
      },
      "execution_count": null,
      "outputs": []
    },
    {
      "cell_type": "code",
      "source": [
        "arr.shape"
      ],
      "metadata": {
        "colab": {
          "base_uri": "https://localhost:8080/"
        },
        "id": "6yZLix8C_fqN",
        "outputId": "de6af1bd-f55a-47be-c826-c2db7abc011c"
      },
      "execution_count": null,
      "outputs": [
        {
          "output_type": "execute_result",
          "data": {
            "text/plain": [
              "(5, 5)"
            ]
          },
          "metadata": {},
          "execution_count": 33
        }
      ]
    },
    {
      "cell_type": "code",
      "source": [
        "arr.max()"
      ],
      "metadata": {
        "colab": {
          "base_uri": "https://localhost:8080/"
        },
        "id": "U1icKXAt_h6M",
        "outputId": "243a69b1-1005-4ca8-b04b-aaaabc960efb"
      },
      "execution_count": null,
      "outputs": [
        {
          "output_type": "execute_result",
          "data": {
            "text/plain": [
              "0.983240007107479"
            ]
          },
          "metadata": {},
          "execution_count": 34
        }
      ]
    },
    {
      "cell_type": "code",
      "source": [
        "arr.min()"
      ],
      "metadata": {
        "colab": {
          "base_uri": "https://localhost:8080/"
        },
        "id": "crxzaAq6AUsC",
        "outputId": "ba5e8e09-658e-4fa8-c375-1ad877ffe4ed"
      },
      "execution_count": null,
      "outputs": [
        {
          "output_type": "execute_result",
          "data": {
            "text/plain": [
              "0.018183221115325887"
            ]
          },
          "metadata": {},
          "execution_count": 35
        }
      ]
    },
    {
      "cell_type": "markdown",
      "source": [
        "argmax retorna o índice na qual o maior elemento se encontra"
      ],
      "metadata": {
        "id": "yQMTR7mmAZop"
      }
    },
    {
      "cell_type": "code",
      "source": [
        "arr.argmax()"
      ],
      "metadata": {
        "colab": {
          "base_uri": "https://localhost:8080/"
        },
        "id": "5Eul3H3JAW8Y",
        "outputId": "cfac82c1-60a2-4916-cedc-ebec79d2664e"
      },
      "execution_count": null,
      "outputs": [
        {
          "output_type": "execute_result",
          "data": {
            "text/plain": [
              "17"
            ]
          },
          "metadata": {},
          "execution_count": 36
        }
      ]
    },
    {
      "cell_type": "code",
      "source": [
        "arr.argmin()"
      ],
      "metadata": {
        "colab": {
          "base_uri": "https://localhost:8080/"
        },
        "id": "Bln58TWXAhWh",
        "outputId": "31776a93-48a1-4488-f0f3-aee547787745"
      },
      "execution_count": null,
      "outputs": [
        {
          "output_type": "execute_result",
          "data": {
            "text/plain": [
              "20"
            ]
          },
          "metadata": {},
          "execution_count": 37
        }
      ]
    },
    {
      "cell_type": "markdown",
      "source": [
        "# AULA 2: indexação e fatiamento de arrays"
      ],
      "metadata": {
        "id": "xQoJ5dJVBYP3"
      }
    },
    {
      "cell_type": "code",
      "source": [
        "arr = np.arange(0,30, 3)"
      ],
      "metadata": {
        "id": "7AwzLVw2BatN"
      },
      "execution_count": null,
      "outputs": []
    },
    {
      "cell_type": "code",
      "source": [
        "arr"
      ],
      "metadata": {
        "colab": {
          "base_uri": "https://localhost:8080/"
        },
        "id": "JsMc2cymUbQ0",
        "outputId": "bb2c33eb-aa1f-459c-e77f-32c901f3442d"
      },
      "execution_count": null,
      "outputs": [
        {
          "output_type": "execute_result",
          "data": {
            "text/plain": [
              "array([ 0,  3,  6,  9, 12, 15, 18, 21, 24, 27])"
            ]
          },
          "metadata": {},
          "execution_count": 39
        }
      ]
    },
    {
      "cell_type": "code",
      "source": [
        "arr[3]"
      ],
      "metadata": {
        "colab": {
          "base_uri": "https://localhost:8080/"
        },
        "id": "yEdqJ5g6UdAI",
        "outputId": "02faccbb-4e3a-43a6-bf84-cef1d83ed4d5"
      },
      "execution_count": null,
      "outputs": [
        {
          "output_type": "execute_result",
          "data": {
            "text/plain": [
              "9"
            ]
          },
          "metadata": {},
          "execution_count": 40
        }
      ]
    },
    {
      "cell_type": "code",
      "source": [
        "arr[2:5]"
      ],
      "metadata": {
        "colab": {
          "base_uri": "https://localhost:8080/"
        },
        "id": "XXscO1DmUfHx",
        "outputId": "70e92165-3bd5-45c7-d981-93fb0a20fe05"
      },
      "execution_count": null,
      "outputs": [
        {
          "output_type": "execute_result",
          "data": {
            "text/plain": [
              "array([ 6,  9, 12])"
            ]
          },
          "metadata": {},
          "execution_count": 41
        }
      ]
    },
    {
      "cell_type": "code",
      "source": [
        "arr[:5]"
      ],
      "metadata": {
        "colab": {
          "base_uri": "https://localhost:8080/"
        },
        "id": "Trnp2x3bUipO",
        "outputId": "3c1c25a6-ede3-4b85-f752-03b02067797a"
      },
      "execution_count": null,
      "outputs": [
        {
          "output_type": "execute_result",
          "data": {
            "text/plain": [
              "array([ 0,  3,  6,  9, 12])"
            ]
          },
          "metadata": {},
          "execution_count": 42
        }
      ]
    },
    {
      "cell_type": "code",
      "source": [
        "arr[2:]"
      ],
      "metadata": {
        "colab": {
          "base_uri": "https://localhost:8080/"
        },
        "id": "J8t2qlLIUlLF",
        "outputId": "41b22416-f27a-4de4-b04d-5b2a7d3934ad"
      },
      "execution_count": null,
      "outputs": [
        {
          "output_type": "execute_result",
          "data": {
            "text/plain": [
              "array([ 6,  9, 12, 15, 18, 21, 24, 27])"
            ]
          },
          "metadata": {},
          "execution_count": 43
        }
      ]
    },
    {
      "cell_type": "markdown",
      "source": [
        "É possível alterar um valor ou valores de determinados indices atribuindo junto com o fatiamento "
      ],
      "metadata": {
        "id": "HgaWVs50U0tu"
      }
    },
    {
      "cell_type": "code",
      "source": [
        "arr[2:] = 100"
      ],
      "metadata": {
        "id": "6SWaOgYWUxgK"
      },
      "execution_count": null,
      "outputs": []
    },
    {
      "cell_type": "code",
      "source": [
        "arr"
      ],
      "metadata": {
        "colab": {
          "base_uri": "https://localhost:8080/"
        },
        "id": "q17vhDZRVBPc",
        "outputId": "9239e65c-e7c8-419a-9f57-1a363bc8ee9f"
      },
      "execution_count": null,
      "outputs": [
        {
          "output_type": "execute_result",
          "data": {
            "text/plain": [
              "array([  0,   3, 100, 100, 100, 100, 100, 100, 100, 100])"
            ]
          },
          "metadata": {},
          "execution_count": 45
        }
      ]
    },
    {
      "cell_type": "markdown",
      "source": [
        "Fatiando matrizes"
      ],
      "metadata": {
        "id": "H-1MJLx_VtJQ"
      }
    },
    {
      "cell_type": "code",
      "source": [
        "arr = np.arange(50).reshape((5,10))"
      ],
      "metadata": {
        "id": "hmg3TF5UVCYq"
      },
      "execution_count": null,
      "outputs": []
    },
    {
      "cell_type": "code",
      "source": [
        "arr"
      ],
      "metadata": {
        "colab": {
          "base_uri": "https://localhost:8080/"
        },
        "id": "sULDh1ECVhs4",
        "outputId": "5f7476ef-7d44-421a-bab8-260b7c8f5176"
      },
      "execution_count": null,
      "outputs": [
        {
          "output_type": "execute_result",
          "data": {
            "text/plain": [
              "array([[ 0,  1,  2,  3,  4,  5,  6,  7,  8,  9],\n",
              "       [10, 11, 12, 13, 14, 15, 16, 17, 18, 19],\n",
              "       [20, 21, 22, 23, 24, 25, 26, 27, 28, 29],\n",
              "       [30, 31, 32, 33, 34, 35, 36, 37, 38, 39],\n",
              "       [40, 41, 42, 43, 44, 45, 46, 47, 48, 49]])"
            ]
          },
          "metadata": {},
          "execution_count": 47
        }
      ]
    },
    {
      "cell_type": "markdown",
      "source": [
        "O primeiro colchete representa linha, o segundo representa coluna"
      ],
      "metadata": {
        "id": "z2lqRZnnV0Nv"
      }
    },
    {
      "cell_type": "code",
      "source": [
        "arr[:3][:]"
      ],
      "metadata": {
        "colab": {
          "base_uri": "https://localhost:8080/"
        },
        "id": "s8nnB80hVjkR",
        "outputId": "39749423-2b10-41f7-d710-942913a9dc0a"
      },
      "execution_count": null,
      "outputs": [
        {
          "output_type": "execute_result",
          "data": {
            "text/plain": [
              "array([[ 0,  1,  2,  3,  4,  5,  6,  7,  8,  9],\n",
              "       [10, 11, 12, 13, 14, 15, 16, 17, 18, 19],\n",
              "       [20, 21, 22, 23, 24, 25, 26, 27, 28, 29]])"
            ]
          },
          "metadata": {},
          "execution_count": 48
        }
      ]
    },
    {
      "cell_type": "markdown",
      "source": [
        "Atribuir um array à um segundo array, cria uma referência e não uma cópia."
      ],
      "metadata": {
        "id": "e7H8I2YrWRYn"
      }
    },
    {
      "cell_type": "markdown",
      "source": [
        "Neste caso, se você alterar algum valor, ele será alterado nos dois arrays"
      ],
      "metadata": {
        "id": "yn1kmj_6WYOu"
      }
    },
    {
      "cell_type": "code",
      "source": [
        "arr2 = arr[:3]"
      ],
      "metadata": {
        "id": "p7dWoL6oV-Vy"
      },
      "execution_count": null,
      "outputs": []
    },
    {
      "cell_type": "code",
      "source": [
        "arr2[:] = 100\n"
      ],
      "metadata": {
        "id": "j2pqpTvvWi4u"
      },
      "execution_count": null,
      "outputs": []
    },
    {
      "cell_type": "code",
      "source": [
        "arr"
      ],
      "metadata": {
        "colab": {
          "base_uri": "https://localhost:8080/"
        },
        "id": "l0FR5AskWpja",
        "outputId": "68d68bdd-2d32-49a9-8dd1-24ebcd58b2f6"
      },
      "execution_count": null,
      "outputs": [
        {
          "output_type": "execute_result",
          "data": {
            "text/plain": [
              "array([[100, 100, 100, 100, 100, 100, 100, 100, 100, 100],\n",
              "       [100, 100, 100, 100, 100, 100, 100, 100, 100, 100],\n",
              "       [100, 100, 100, 100, 100, 100, 100, 100, 100, 100],\n",
              "       [ 30,  31,  32,  33,  34,  35,  36,  37,  38,  39],\n",
              "       [ 40,  41,  42,  43,  44,  45,  46,  47,  48,  49]])"
            ]
          },
          "metadata": {},
          "execution_count": 51
        }
      ]
    },
    {
      "cell_type": "markdown",
      "source": [
        "Para evitar isso, utilizar o método copy()"
      ],
      "metadata": {
        "id": "LesrZ_ZoW0rP"
      }
    },
    {
      "cell_type": "code",
      "source": [
        "arr = np.arange(50).reshape((5,10))"
      ],
      "metadata": {
        "id": "78Z6coyOWqaR"
      },
      "execution_count": null,
      "outputs": []
    },
    {
      "cell_type": "code",
      "source": [
        "arr2 = arr[:].copy()"
      ],
      "metadata": {
        "id": "t6U-vuUnW_31"
      },
      "execution_count": null,
      "outputs": []
    },
    {
      "cell_type": "code",
      "source": [
        "arr2[:3] = 100"
      ],
      "metadata": {
        "id": "Y6DxzT1JZp6g"
      },
      "execution_count": null,
      "outputs": []
    },
    {
      "cell_type": "code",
      "source": [
        "arr2"
      ],
      "metadata": {
        "colab": {
          "base_uri": "https://localhost:8080/"
        },
        "id": "T07MWFJIZ53k",
        "outputId": "fe96c872-7d23-4bed-ab66-63081540fba2"
      },
      "execution_count": null,
      "outputs": [
        {
          "output_type": "execute_result",
          "data": {
            "text/plain": [
              "array([[100, 100, 100, 100, 100, 100, 100, 100, 100, 100],\n",
              "       [100, 100, 100, 100, 100, 100, 100, 100, 100, 100],\n",
              "       [100, 100, 100, 100, 100, 100, 100, 100, 100, 100],\n",
              "       [ 30,  31,  32,  33,  34,  35,  36,  37,  38,  39],\n",
              "       [ 40,  41,  42,  43,  44,  45,  46,  47,  48,  49]])"
            ]
          },
          "metadata": {},
          "execution_count": 67
        }
      ]
    },
    {
      "cell_type": "code",
      "source": [
        "arr"
      ],
      "metadata": {
        "colab": {
          "base_uri": "https://localhost:8080/"
        },
        "id": "kUa6bmRqaBbh",
        "outputId": "106acb22-c65d-4ae7-9c7e-7b9f9d45c5d0"
      },
      "execution_count": null,
      "outputs": [
        {
          "output_type": "execute_result",
          "data": {
            "text/plain": [
              "array([[ 0,  1,  2,  3,  4,  5,  6,  7,  8,  9],\n",
              "       [10, 11, 12, 13, 14, 15, 16, 17, 18, 19],\n",
              "       [20, 21, 22, 23, 24, 25, 26, 27, 28, 29],\n",
              "       [30, 31, 32, 33, 34, 35, 36, 37, 38, 39],\n",
              "       [40, 41, 42, 43, 44, 45, 46, 47, 48, 49]])"
            ]
          },
          "metadata": {},
          "execution_count": 68
        }
      ]
    },
    {
      "cell_type": "markdown",
      "source": [
        "Podemos fazer a indexação de arrays de duas dimensões com vírgula também:"
      ],
      "metadata": {
        "id": "n-2FYJiFajF0"
      }
    },
    {
      "cell_type": "markdown",
      "source": [
        "[linha,coluna]"
      ],
      "metadata": {
        "id": "F2Svtx3mas3u"
      }
    },
    {
      "cell_type": "code",
      "source": [
        "arr[1:4,5:]"
      ],
      "metadata": {
        "colab": {
          "base_uri": "https://localhost:8080/"
        },
        "id": "ctqYnbMPaF7M",
        "outputId": "0ed4bc14-dc85-49db-891f-254561c8bc17"
      },
      "execution_count": null,
      "outputs": [
        {
          "output_type": "execute_result",
          "data": {
            "text/plain": [
              "array([[15, 16, 17, 18, 19],\n",
              "       [25, 26, 27, 28, 29],\n",
              "       [35, 36, 37, 38, 39]])"
            ]
          },
          "metadata": {},
          "execution_count": 69
        }
      ]
    },
    {
      "cell_type": "markdown",
      "source": [
        "Uma outra notação:"
      ],
      "metadata": {
        "id": "EFfNu6JMbER9"
      }
    },
    {
      "cell_type": "code",
      "source": [
        "arr > 50"
      ],
      "metadata": {
        "colab": {
          "base_uri": "https://localhost:8080/"
        },
        "id": "EmX_o6vga1g7",
        "outputId": "00b458fb-3d9f-4718-a64b-1a0a43331f02"
      },
      "execution_count": null,
      "outputs": [
        {
          "output_type": "execute_result",
          "data": {
            "text/plain": [
              "array([[False, False, False, False, False, False, False, False, False,\n",
              "        False],\n",
              "       [False, False, False, False, False, False, False, False, False,\n",
              "        False],\n",
              "       [False, False, False, False, False, False, False, False, False,\n",
              "        False],\n",
              "       [False, False, False, False, False, False, False, False, False,\n",
              "        False],\n",
              "       [False, False, False, False, False, False, False, False, False,\n",
              "        False]])"
            ]
          },
          "metadata": {},
          "execution_count": 70
        }
      ]
    },
    {
      "cell_type": "code",
      "source": [
        "bol = arr <30"
      ],
      "metadata": {
        "id": "ILH0OKgybOLK"
      },
      "execution_count": null,
      "outputs": []
    },
    {
      "cell_type": "code",
      "source": [
        "arr[bol]"
      ],
      "metadata": {
        "colab": {
          "base_uri": "https://localhost:8080/"
        },
        "id": "iQFxY8NGbW8B",
        "outputId": "96e40f07-ad42-469c-af60-ad553268bdbe"
      },
      "execution_count": null,
      "outputs": [
        {
          "output_type": "execute_result",
          "data": {
            "text/plain": [
              "array([ 0,  1,  2,  3,  4,  5,  6,  7,  8,  9, 10, 11, 12, 13, 14, 15, 16,\n",
              "       17, 18, 19, 20, 21, 22, 23, 24, 25, 26, 27, 28, 29])"
            ]
          },
          "metadata": {},
          "execution_count": 74
        }
      ]
    },
    {
      "cell_type": "markdown",
      "source": [
        "EXEMPLOS DIFERENTES:"
      ],
      "metadata": {
        "id": "Yqv0JOUdbmHU"
      }
    },
    {
      "cell_type": "code",
      "source": [
        "array = np.linspace(0, 100, 30)"
      ],
      "metadata": {
        "id": "kPjVsGOQbZT0"
      },
      "execution_count": null,
      "outputs": []
    },
    {
      "cell_type": "code",
      "source": [
        "array.shape"
      ],
      "metadata": {
        "colab": {
          "base_uri": "https://localhost:8080/"
        },
        "id": "0OhDjzXobtsm",
        "outputId": "2c0b6b47-8d0d-47c9-aff0-092eb92ae210"
      },
      "execution_count": null,
      "outputs": [
        {
          "output_type": "execute_result",
          "data": {
            "text/plain": [
              "(30,)"
            ]
          },
          "metadata": {},
          "execution_count": 76
        }
      ]
    },
    {
      "cell_type": "code",
      "source": [
        "array = array.reshape(3,10)"
      ],
      "metadata": {
        "id": "koSwogaLbvVk"
      },
      "execution_count": null,
      "outputs": []
    },
    {
      "cell_type": "code",
      "source": [
        "array"
      ],
      "metadata": {
        "colab": {
          "base_uri": "https://localhost:8080/"
        },
        "id": "K-kYR_VVbyxO",
        "outputId": "2e07d00a-b0d6-4250-fa80-d5e6c79824af"
      },
      "execution_count": null,
      "outputs": [
        {
          "output_type": "execute_result",
          "data": {
            "text/plain": [
              "array([[  0.        ,   3.44827586,   6.89655172,  10.34482759,\n",
              "         13.79310345,  17.24137931,  20.68965517,  24.13793103,\n",
              "         27.5862069 ,  31.03448276],\n",
              "       [ 34.48275862,  37.93103448,  41.37931034,  44.82758621,\n",
              "         48.27586207,  51.72413793,  55.17241379,  58.62068966,\n",
              "         62.06896552,  65.51724138],\n",
              "       [ 68.96551724,  72.4137931 ,  75.86206897,  79.31034483,\n",
              "         82.75862069,  86.20689655,  89.65517241,  93.10344828,\n",
              "         96.55172414, 100.        ]])"
            ]
          },
          "metadata": {},
          "execution_count": 78
        }
      ]
    },
    {
      "cell_type": "code",
      "source": [
        "array[0:2, 2]"
      ],
      "metadata": {
        "colab": {
          "base_uri": "https://localhost:8080/"
        },
        "id": "npIW1sy-b2Qp",
        "outputId": "45574150-5cf2-4039-a1b5-cdefe430ec36"
      },
      "execution_count": null,
      "outputs": [
        {
          "output_type": "execute_result",
          "data": {
            "text/plain": [
              "array([ 6.89655172, 41.37931034])"
            ]
          },
          "metadata": {},
          "execution_count": 79
        }
      ]
    },
    {
      "cell_type": "code",
      "source": [],
      "metadata": {
        "id": "MIGQAHvcb6ij"
      },
      "execution_count": null,
      "outputs": []
    },
    {
      "cell_type": "markdown",
      "source": [
        "#AULA 3: Operações com Numpy Arrays"
      ],
      "metadata": {
        "id": "kUW8K3YPcR_s"
      }
    },
    {
      "cell_type": "code",
      "source": [
        "arr = np.arange(0,16)"
      ],
      "metadata": {
        "id": "RTqw3THhcYhv"
      },
      "execution_count": null,
      "outputs": []
    },
    {
      "cell_type": "code",
      "source": [
        "arr"
      ],
      "metadata": {
        "colab": {
          "base_uri": "https://localhost:8080/"
        },
        "id": "m8IepBBid1Wa",
        "outputId": "c655900e-2690-4f03-ea13-df9010fd4aa9"
      },
      "execution_count": null,
      "outputs": [
        {
          "output_type": "execute_result",
          "data": {
            "text/plain": [
              "array([ 0,  1,  2,  3,  4,  5,  6,  7,  8,  9, 10, 11, 12, 13, 14, 15])"
            ]
          },
          "metadata": {},
          "execution_count": 82
        }
      ]
    },
    {
      "cell_type": "markdown",
      "source": [
        "Para somar arrays é importante que eles tenham o mesmo tamanho"
      ],
      "metadata": {
        "id": "izQWntHSdsmr"
      }
    },
    {
      "cell_type": "code",
      "source": [
        "arr + arr"
      ],
      "metadata": {
        "colab": {
          "base_uri": "https://localhost:8080/"
        },
        "id": "51MYdx2kdrrg",
        "outputId": "23591658-db6d-490e-c520-2e57de14d263"
      },
      "execution_count": null,
      "outputs": [
        {
          "output_type": "execute_result",
          "data": {
            "text/plain": [
              "array([ 0,  2,  4,  6,  8, 10, 12, 14, 16, 18, 20, 22, 24, 26, 28, 30])"
            ]
          },
          "metadata": {},
          "execution_count": 81
        }
      ]
    },
    {
      "cell_type": "code",
      "source": [
        "arr - arr"
      ],
      "metadata": {
        "colab": {
          "base_uri": "https://localhost:8080/"
        },
        "id": "F_27BnRpdys6",
        "outputId": "c79ecdb5-a2d7-4593-949f-e3c82af22395"
      },
      "execution_count": null,
      "outputs": [
        {
          "output_type": "execute_result",
          "data": {
            "text/plain": [
              "array([0, 0, 0, 0, 0, 0, 0, 0, 0, 0, 0, 0, 0, 0, 0, 0])"
            ]
          },
          "metadata": {},
          "execution_count": 83
        }
      ]
    },
    {
      "cell_type": "code",
      "source": [
        "arr * arr"
      ],
      "metadata": {
        "colab": {
          "base_uri": "https://localhost:8080/"
        },
        "id": "7U8DW1ZPfHCp",
        "outputId": "fd81f27f-90bb-4bc4-d138-f9ec9f51d787"
      },
      "execution_count": null,
      "outputs": [
        {
          "output_type": "execute_result",
          "data": {
            "text/plain": [
              "array([  0,   1,   4,   9,  16,  25,  36,  49,  64,  81, 100, 121, 144,\n",
              "       169, 196, 225])"
            ]
          },
          "metadata": {},
          "execution_count": 84
        }
      ]
    },
    {
      "cell_type": "markdown",
      "source": [
        "Divisão por zero:"
      ],
      "metadata": {
        "id": "FLGYDHDafLhS"
      }
    },
    {
      "cell_type": "markdown",
      "source": [
        "em um código python comum, uma divisão por zero resultaria em um erro, porém o numpy é capaz de induzir a uma resposta apenas mostrando uma mensagem de aviso"
      ],
      "metadata": {
        "id": "F-jnGTR_fNU1"
      }
    },
    {
      "cell_type": "code",
      "source": [
        "arr / arr"
      ],
      "metadata": {
        "colab": {
          "base_uri": "https://localhost:8080/"
        },
        "id": "u78Nx1CifJud",
        "outputId": "f710f560-ca7e-4be2-a2aa-df6b56fdb779"
      },
      "execution_count": null,
      "outputs": [
        {
          "output_type": "stream",
          "name": "stderr",
          "text": [
            "<ipython-input-85-7f952cd3e0ce>:1: RuntimeWarning: invalid value encountered in true_divide\n",
            "  arr / arr\n"
          ]
        },
        {
          "output_type": "execute_result",
          "data": {
            "text/plain": [
              "array([nan,  1.,  1.,  1.,  1.,  1.,  1.,  1.,  1.,  1.,  1.,  1.,  1.,\n",
              "        1.,  1.,  1.])"
            ]
          },
          "metadata": {},
          "execution_count": 85
        }
      ]
    },
    {
      "cell_type": "code",
      "source": [
        "# RuntimeWarning"
      ],
      "metadata": {
        "id": "DreOH4T0foYH"
      },
      "execution_count": null,
      "outputs": []
    },
    {
      "cell_type": "markdown",
      "source": [
        "Operações escalares"
      ],
      "metadata": {
        "id": "Z2A403xIgPea"
      }
    },
    {
      "cell_type": "code",
      "source": [
        "arr ** 2"
      ],
      "metadata": {
        "colab": {
          "base_uri": "https://localhost:8080/"
        },
        "id": "jit2Fin1ftFA",
        "outputId": "c8940390-6420-45d0-9552-683b523ae398"
      },
      "execution_count": null,
      "outputs": [
        {
          "output_type": "execute_result",
          "data": {
            "text/plain": [
              "array([  0,   1,   4,   9,  16,  25,  36,  49,  64,  81, 100, 121, 144,\n",
              "       169, 196, 225])"
            ]
          },
          "metadata": {},
          "execution_count": 87
        }
      ]
    },
    {
      "cell_type": "code",
      "source": [
        "arr + 100"
      ],
      "metadata": {
        "colab": {
          "base_uri": "https://localhost:8080/"
        },
        "id": "b3EHbFP8gSuM",
        "outputId": "92a396df-b501-4a1c-daf2-9ac7f2962218"
      },
      "execution_count": null,
      "outputs": [
        {
          "output_type": "execute_result",
          "data": {
            "text/plain": [
              "array([100, 101, 102, 103, 104, 105, 106, 107, 108, 109, 110, 111, 112,\n",
              "       113, 114, 115])"
            ]
          },
          "metadata": {},
          "execution_count": 88
        }
      ]
    },
    {
      "cell_type": "code",
      "source": [
        "arr - 100"
      ],
      "metadata": {
        "colab": {
          "base_uri": "https://localhost:8080/"
        },
        "id": "tEDCUOEsgUHk",
        "outputId": "d91c29a1-d4ab-4831-816d-f4d679217a55"
      },
      "execution_count": null,
      "outputs": [
        {
          "output_type": "execute_result",
          "data": {
            "text/plain": [
              "array([-100,  -99,  -98,  -97,  -96,  -95,  -94,  -93,  -92,  -91,  -90,\n",
              "        -89,  -88,  -87,  -86,  -85])"
            ]
          },
          "metadata": {},
          "execution_count": 89
        }
      ]
    },
    {
      "cell_type": "code",
      "source": [
        "arr * 100"
      ],
      "metadata": {
        "colab": {
          "base_uri": "https://localhost:8080/"
        },
        "id": "JIgbKXeHgVfN",
        "outputId": "5a8633c6-6d6a-4800-9424-7970f8b5a43f"
      },
      "execution_count": null,
      "outputs": [
        {
          "output_type": "execute_result",
          "data": {
            "text/plain": [
              "array([   0,  100,  200,  300,  400,  500,  600,  700,  800,  900, 1000,\n",
              "       1100, 1200, 1300, 1400, 1500])"
            ]
          },
          "metadata": {},
          "execution_count": 90
        }
      ]
    },
    {
      "cell_type": "code",
      "source": [
        "np.sqrt(arr)"
      ],
      "metadata": {
        "colab": {
          "base_uri": "https://localhost:8080/"
        },
        "id": "I3WJjSLLgWxZ",
        "outputId": "a4f22d8b-80eb-423a-a152-9c594a7d4b47"
      },
      "execution_count": null,
      "outputs": [
        {
          "output_type": "execute_result",
          "data": {
            "text/plain": [
              "array([0.        , 1.        , 1.41421356, 1.73205081, 2.        ,\n",
              "       2.23606798, 2.44948974, 2.64575131, 2.82842712, 3.        ,\n",
              "       3.16227766, 3.31662479, 3.46410162, 3.60555128, 3.74165739,\n",
              "       3.87298335])"
            ]
          },
          "metadata": {},
          "execution_count": 91
        }
      ]
    },
    {
      "cell_type": "code",
      "source": [
        "np.exp(arr)"
      ],
      "metadata": {
        "colab": {
          "base_uri": "https://localhost:8080/"
        },
        "id": "jNJ1HyGBgbN4",
        "outputId": "5487b060-84ae-4264-f3d5-ea3563f7a6b9"
      },
      "execution_count": null,
      "outputs": [
        {
          "output_type": "execute_result",
          "data": {
            "text/plain": [
              "array([1.00000000e+00, 2.71828183e+00, 7.38905610e+00, 2.00855369e+01,\n",
              "       5.45981500e+01, 1.48413159e+02, 4.03428793e+02, 1.09663316e+03,\n",
              "       2.98095799e+03, 8.10308393e+03, 2.20264658e+04, 5.98741417e+04,\n",
              "       1.62754791e+05, 4.42413392e+05, 1.20260428e+06, 3.26901737e+06])"
            ]
          },
          "metadata": {},
          "execution_count": 92
        }
      ]
    },
    {
      "cell_type": "code",
      "source": [
        "np.mean(arr)"
      ],
      "metadata": {
        "colab": {
          "base_uri": "https://localhost:8080/"
        },
        "id": "xRQwtFyRggBe",
        "outputId": "dc6a171d-9434-4966-e26d-f67b25759ea6"
      },
      "execution_count": null,
      "outputs": [
        {
          "output_type": "execute_result",
          "data": {
            "text/plain": [
              "7.5"
            ]
          },
          "metadata": {},
          "execution_count": 93
        }
      ]
    },
    {
      "cell_type": "code",
      "source": [
        "np.std(arr)"
      ],
      "metadata": {
        "colab": {
          "base_uri": "https://localhost:8080/"
        },
        "id": "MmOhJ530gikD",
        "outputId": "c5fa9d3d-a25f-4575-be48-6b99bf7a294d"
      },
      "execution_count": null,
      "outputs": [
        {
          "output_type": "execute_result",
          "data": {
            "text/plain": [
              "4.6097722286464435"
            ]
          },
          "metadata": {},
          "execution_count": 94
        }
      ]
    },
    {
      "cell_type": "code",
      "source": [
        "np.sin(arr)"
      ],
      "metadata": {
        "colab": {
          "base_uri": "https://localhost:8080/"
        },
        "id": "RNOmjp01glYm",
        "outputId": "7daccfc1-db2a-4c5f-edd3-b06b1217af63"
      },
      "execution_count": null,
      "outputs": [
        {
          "output_type": "execute_result",
          "data": {
            "text/plain": [
              "array([ 0.        ,  0.84147098,  0.90929743,  0.14112001, -0.7568025 ,\n",
              "       -0.95892427, -0.2794155 ,  0.6569866 ,  0.98935825,  0.41211849,\n",
              "       -0.54402111, -0.99999021, -0.53657292,  0.42016704,  0.99060736,\n",
              "        0.65028784])"
            ]
          },
          "metadata": {},
          "execution_count": 95
        }
      ]
    },
    {
      "cell_type": "code",
      "source": [
        "np.max(arr)"
      ],
      "metadata": {
        "colab": {
          "base_uri": "https://localhost:8080/"
        },
        "id": "8A9eivI1gmbk",
        "outputId": "ecfe30f4-104f-4957-9c8a-d3eaf244c8d1"
      },
      "execution_count": null,
      "outputs": [
        {
          "output_type": "execute_result",
          "data": {
            "text/plain": [
              "15"
            ]
          },
          "metadata": {},
          "execution_count": 96
        }
      ]
    },
    {
      "cell_type": "code",
      "source": [
        "np.min(arr)"
      ],
      "metadata": {
        "colab": {
          "base_uri": "https://localhost:8080/"
        },
        "id": "vdwM6P_6gwQl",
        "outputId": "3fe1ae82-1327-458b-c23d-20d8cd0429ec"
      },
      "execution_count": null,
      "outputs": [
        {
          "output_type": "execute_result",
          "data": {
            "text/plain": [
              "0"
            ]
          },
          "metadata": {},
          "execution_count": 97
        }
      ]
    },
    {
      "cell_type": "code",
      "source": [],
      "metadata": {
        "id": "yOXTNTAwgxNI"
      },
      "execution_count": null,
      "outputs": []
    }
  ]
}